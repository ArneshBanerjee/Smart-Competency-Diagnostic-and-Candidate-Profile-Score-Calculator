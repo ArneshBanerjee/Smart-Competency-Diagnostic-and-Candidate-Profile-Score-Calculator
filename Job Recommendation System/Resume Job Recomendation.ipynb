{
 "cells": [
  {
   "cell_type": "code",
   "execution_count": 27,
   "id": "62b3fe04-8fb5-41a1-bb1d-dc557c26abfb",
   "metadata": {},
   "outputs": [],
   "source": [
    "import pandas as pd"
   ]
  },
  {
   "cell_type": "code",
   "execution_count": 28,
   "id": "61fac732-9412-44b1-bed2-3d301cf8792c",
   "metadata": {},
   "outputs": [],
   "source": [
    "df = pd.read_csv(\"/Users/arneshbanerjee/Coding/Code/ml/job_recomendation/jobs_dataset_with_features.csv\")"
   ]
  },
  {
   "cell_type": "code",
   "execution_count": 29,
   "id": "d4613bce-e0cc-4049-bc57-93abcf15358b",
   "metadata": {},
   "outputs": [
    {
     "data": {
      "text/plain": [
       "(1615940, 2)"
      ]
     },
     "execution_count": 29,
     "metadata": {},
     "output_type": "execute_result"
    }
   ],
   "source": [
    "df.shape"
   ]
  },
  {
   "cell_type": "code",
   "execution_count": 30,
   "id": "30853b01-673e-4d37-944f-400d274a8700",
   "metadata": {},
   "outputs": [
    {
     "data": {
      "text/html": [
       "<div>\n",
       "<style scoped>\n",
       "    .dataframe tbody tr th:only-of-type {\n",
       "        vertical-align: middle;\n",
       "    }\n",
       "\n",
       "    .dataframe tbody tr th {\n",
       "        vertical-align: top;\n",
       "    }\n",
       "\n",
       "    .dataframe thead th {\n",
       "        text-align: right;\n",
       "    }\n",
       "</style>\n",
       "<table border=\"1\" class=\"dataframe\">\n",
       "  <thead>\n",
       "    <tr style=\"text-align: right;\">\n",
       "      <th></th>\n",
       "      <th>Role</th>\n",
       "      <th>Features</th>\n",
       "    </tr>\n",
       "  </thead>\n",
       "  <tbody>\n",
       "    <tr>\n",
       "      <th>0</th>\n",
       "      <td>Social Media Manager</td>\n",
       "      <td>5 to 15 Years Digital Marketing Specialist M.T...</td>\n",
       "    </tr>\n",
       "    <tr>\n",
       "      <th>1</th>\n",
       "      <td>Frontend Web Developer</td>\n",
       "      <td>2 to 12 Years Web Developer BCA HTML, CSS, Jav...</td>\n",
       "    </tr>\n",
       "    <tr>\n",
       "      <th>2</th>\n",
       "      <td>Quality Control Manager</td>\n",
       "      <td>0 to 12 Years Operations Manager PhD Quality c...</td>\n",
       "    </tr>\n",
       "    <tr>\n",
       "      <th>3</th>\n",
       "      <td>Wireless Network Engineer</td>\n",
       "      <td>4 to 11 Years Network Engineer PhD Wireless ne...</td>\n",
       "    </tr>\n",
       "    <tr>\n",
       "      <th>4</th>\n",
       "      <td>Conference Manager</td>\n",
       "      <td>1 to 12 Years Event Manager MBA Event planning...</td>\n",
       "    </tr>\n",
       "  </tbody>\n",
       "</table>\n",
       "</div>"
      ],
      "text/plain": [
       "                        Role  \\\n",
       "0       Social Media Manager   \n",
       "1     Frontend Web Developer   \n",
       "2    Quality Control Manager   \n",
       "3  Wireless Network Engineer   \n",
       "4         Conference Manager   \n",
       "\n",
       "                                            Features  \n",
       "0  5 to 15 Years Digital Marketing Specialist M.T...  \n",
       "1  2 to 12 Years Web Developer BCA HTML, CSS, Jav...  \n",
       "2  0 to 12 Years Operations Manager PhD Quality c...  \n",
       "3  4 to 11 Years Network Engineer PhD Wireless ne...  \n",
       "4  1 to 12 Years Event Manager MBA Event planning...  "
      ]
     },
     "execution_count": 30,
     "metadata": {},
     "output_type": "execute_result"
    }
   ],
   "source": [
    "df.head()"
   ]
  },
  {
   "cell_type": "code",
   "execution_count": 31,
   "id": "d1592c12-a8ef-45ee-ae7e-4f70abaab46e",
   "metadata": {},
   "outputs": [
    {
     "name": "stdout",
     "output_type": "stream",
     "text": [
      "<class 'pandas.core.frame.DataFrame'>\n",
      "RangeIndex: 1615940 entries, 0 to 1615939\n",
      "Data columns (total 2 columns):\n",
      " #   Column    Non-Null Count    Dtype \n",
      "---  ------    --------------    ----- \n",
      " 0   Role      1615940 non-null  object\n",
      " 1   Features  1615940 non-null  object\n",
      "dtypes: object(2)\n",
      "memory usage: 24.7+ MB\n"
     ]
    }
   ],
   "source": [
    "df.info()"
   ]
  },
  {
   "cell_type": "code",
   "execution_count": 32,
   "id": "d453df26-fe1d-418f-b303-1df8f8611ea8",
   "metadata": {},
   "outputs": [
    {
     "data": {
      "text/plain": [
       "Index(['Role', 'Features'], dtype='object')"
      ]
     },
     "execution_count": 32,
     "metadata": {},
     "output_type": "execute_result"
    }
   ],
   "source": [
    "df.columns"
   ]
  },
  {
   "cell_type": "code",
   "execution_count": 33,
   "id": "e48d9ff1-06e0-4bf3-84ea-03b3ae09dbc0",
   "metadata": {},
   "outputs": [
    {
     "data": {
      "text/plain": [
       "Role\n",
       "Interaction Designer            20580\n",
       "Network Administrator           17470\n",
       "User Interface Designer         14036\n",
       "Social Media Manager            13945\n",
       "User Experience Designer        13935\n",
       "                                ...  \n",
       "Inventory Control Specialist     3342\n",
       "Budget Analyst                   3335\n",
       "Clinical Nurse Manager           3324\n",
       "Social Science Researcher        3321\n",
       "Paid Advertising Specialist      3306\n",
       "Name: count, Length: 376, dtype: int64"
      ]
     },
     "execution_count": 33,
     "metadata": {},
     "output_type": "execute_result"
    }
   ],
   "source": [
    "df['Role'].value_counts()"
   ]
  },
  {
   "cell_type": "code",
   "execution_count": 34,
   "id": "44221d43-1737-4bca-b219-821eae5c9497",
   "metadata": {},
   "outputs": [],
   "source": [
    "min_count = 6500 #setting minimum to 6.5k, dropping casses less than 6k\n",
    "role_counts = df['Role'].value_counts()\n",
    "dropped_classes = role_counts[role_counts < min_count].index\n",
    "filtered_df = df[~df['Role'].isin(dropped_classes)].reset_index(drop=True)"
   ]
  },
  {
   "cell_type": "code",
   "execution_count": 35,
   "id": "4cdcbee1-b7ed-4e26-9961-4a38420e5572",
   "metadata": {},
   "outputs": [
    {
     "data": {
      "text/plain": [
       "Role\n",
       "Interaction Designer          20580\n",
       "Network Administrator         17470\n",
       "User Interface Designer       14036\n",
       "Social Media Manager          13945\n",
       "User Experience Designer      13935\n",
       "                              ...  \n",
       "Benefits Coordinator           6839\n",
       "Research Analyst               6830\n",
       "Administrative Coordinator     6803\n",
       "IT Support Specialist          6799\n",
       "UI/UX Designer                 6743\n",
       "Name: count, Length: 61, dtype: int64"
      ]
     },
     "execution_count": 35,
     "metadata": {},
     "output_type": "execute_result"
    }
   ],
   "source": [
    "filtered_df['Role'].value_counts()"
   ]
  },
  {
   "cell_type": "code",
   "execution_count": 36,
   "id": "753ef232-0c3a-47db-973d-b13d75249fe9",
   "metadata": {},
   "outputs": [
    {
     "data": {
      "text/plain": [
       "61"
      ]
     },
     "execution_count": 36,
     "metadata": {},
     "output_type": "execute_result"
    }
   ],
   "source": [
    "len(filtered_df['Role'].value_counts())"
   ]
  },
  {
   "cell_type": "code",
   "execution_count": 37,
   "id": "ab15ed4c-d419-4cbd-9408-a06b43fffcf7",
   "metadata": {},
   "outputs": [],
   "source": [
    "df = filtered_df.sample(n=10000) #only 10 taken"
   ]
  },
  {
   "cell_type": "code",
   "execution_count": 38,
   "id": "2b3b7ee4-1b1e-4736-a142-d62558e35ecf",
   "metadata": {},
   "outputs": [
    {
     "data": {
      "text/html": [
       "<div>\n",
       "<style scoped>\n",
       "    .dataframe tbody tr th:only-of-type {\n",
       "        vertical-align: middle;\n",
       "    }\n",
       "\n",
       "    .dataframe tbody tr th {\n",
       "        vertical-align: top;\n",
       "    }\n",
       "\n",
       "    .dataframe thead th {\n",
       "        text-align: right;\n",
       "    }\n",
       "</style>\n",
       "<table border=\"1\" class=\"dataframe\">\n",
       "  <thead>\n",
       "    <tr style=\"text-align: right;\">\n",
       "      <th></th>\n",
       "      <th>Role</th>\n",
       "      <th>Features</th>\n",
       "    </tr>\n",
       "  </thead>\n",
       "  <tbody>\n",
       "    <tr>\n",
       "      <th>384987</th>\n",
       "      <td>User Interface Designer</td>\n",
       "      <td>5 to 10 Years UX/UI Designer M.Com UI design p...</td>\n",
       "    </tr>\n",
       "    <tr>\n",
       "      <th>184151</th>\n",
       "      <td>User Interface Designer</td>\n",
       "      <td>4 to 9 Years UX/UI Designer MBA UI design prin...</td>\n",
       "    </tr>\n",
       "    <tr>\n",
       "      <th>199521</th>\n",
       "      <td>Social Media Analyst</td>\n",
       "      <td>3 to 12 Years Social Media Manager B.Tech Soci...</td>\n",
       "    </tr>\n",
       "    <tr>\n",
       "      <th>27117</th>\n",
       "      <td>Procurement Analyst</td>\n",
       "      <td>0 to 15 Years Procurement Manager BA Procureme...</td>\n",
       "    </tr>\n",
       "    <tr>\n",
       "      <th>177381</th>\n",
       "      <td>Quality Assurance Analyst</td>\n",
       "      <td>0 to 14 Years Software Tester PhD Quality assu...</td>\n",
       "    </tr>\n",
       "    <tr>\n",
       "      <th>277000</th>\n",
       "      <td>User Experience Designer</td>\n",
       "      <td>1 to 12 Years UX/UI Designer BCA User-centered...</td>\n",
       "    </tr>\n",
       "    <tr>\n",
       "      <th>283820</th>\n",
       "      <td>Customer Support Specialist</td>\n",
       "      <td>2 to 12 Years Customer Success Manager MBA Cus...</td>\n",
       "    </tr>\n",
       "    <tr>\n",
       "      <th>471446</th>\n",
       "      <td>Supply Chain Manager</td>\n",
       "      <td>1 to 14 Years Operations Manager MCA Supply ch...</td>\n",
       "    </tr>\n",
       "    <tr>\n",
       "      <th>351086</th>\n",
       "      <td>Supply Chain Coordinator</td>\n",
       "      <td>5 to 8 Years Purchasing Agent M.Tech Supply ch...</td>\n",
       "    </tr>\n",
       "    <tr>\n",
       "      <th>314219</th>\n",
       "      <td>UX/UI Designer</td>\n",
       "      <td>0 to 8 Years UI Developer BA User experience (...</td>\n",
       "    </tr>\n",
       "  </tbody>\n",
       "</table>\n",
       "</div>"
      ],
      "text/plain": [
       "                               Role  \\\n",
       "384987      User Interface Designer   \n",
       "184151      User Interface Designer   \n",
       "199521         Social Media Analyst   \n",
       "27117           Procurement Analyst   \n",
       "177381    Quality Assurance Analyst   \n",
       "277000     User Experience Designer   \n",
       "283820  Customer Support Specialist   \n",
       "471446         Supply Chain Manager   \n",
       "351086     Supply Chain Coordinator   \n",
       "314219               UX/UI Designer   \n",
       "\n",
       "                                                 Features  \n",
       "384987  5 to 10 Years UX/UI Designer M.Com UI design p...  \n",
       "184151  4 to 9 Years UX/UI Designer MBA UI design prin...  \n",
       "199521  3 to 12 Years Social Media Manager B.Tech Soci...  \n",
       "27117   0 to 15 Years Procurement Manager BA Procureme...  \n",
       "177381  0 to 14 Years Software Tester PhD Quality assu...  \n",
       "277000  1 to 12 Years UX/UI Designer BCA User-centered...  \n",
       "283820  2 to 12 Years Customer Success Manager MBA Cus...  \n",
       "471446  1 to 14 Years Operations Manager MCA Supply ch...  \n",
       "351086  5 to 8 Years Purchasing Agent M.Tech Supply ch...  \n",
       "314219  0 to 8 Years UI Developer BA User experience (...  "
      ]
     },
     "execution_count": 38,
     "metadata": {},
     "output_type": "execute_result"
    }
   ],
   "source": [
    "df.head(10)"
   ]
  },
  {
   "cell_type": "code",
   "execution_count": 39,
   "id": "3b8371fa-cef9-4b2f-85ac-b1bba6d1b71c",
   "metadata": {},
   "outputs": [],
   "source": [
    "from sklearn.model_selection import train_test_split\n",
    "from sklearn.feature_extraction.text import TfidfVectorizer\n",
    "from sklearn.ensemble import RandomForestClassifier\n",
    "from sklearn.metrics import accuracy_score"
   ]
  },
  {
   "cell_type": "code",
   "execution_count": 40,
   "id": "fa42f914-7b0a-4afb-b8d1-ed2f44d91bfc",
   "metadata": {},
   "outputs": [],
   "source": [
    "#t-t split\n",
    "X = df['Features']\n",
    "y = df['Role']\n",
    "\n",
    "X_train, X_test, y_train, y_test = train_test_split(X, y, test_size=0.2, random_state=42)"
   ]
  },
  {
   "cell_type": "code",
   "execution_count": 41,
   "id": "07533769-d930-4d19-bba4-d0457d540979",
   "metadata": {},
   "outputs": [],
   "source": [
    "#tf id vectorisation\n",
    "tfidf_vectorizer = TfidfVectorizer()\n",
    "X_train_tfidf = tfidf_vectorizer.fit_transform(X_train)\n",
    "X_test_tfidf = tfidf_vectorizer.transform(X_test)"
   ]
  },
  {
   "cell_type": "code",
   "execution_count": 42,
   "id": "acfe7d7d-9777-449d-b367-c0dc88eb7933",
   "metadata": {},
   "outputs": [
    {
     "name": "stdout",
     "output_type": "stream",
     "text": [
      "Accuracy: 1.0\n"
     ]
    }
   ],
   "source": [
    "#rf classifier\n",
    "rf_classifier = RandomForestClassifier()\n",
    "rf_classifier.fit(X_train_tfidf, y_train)\n",
    "\n",
    "y_pred = rf_classifier.predict(X_test_tfidf)\n",
    "\n",
    "accuracy = accuracy_score(y_test, y_pred)\n",
    "print(\"Accuracy:\", accuracy)"
   ]
  },
  {
   "cell_type": "code",
   "execution_count": 43,
   "id": "353d8137-7c90-4284-9efb-d738cf6aa908",
   "metadata": {},
   "outputs": [],
   "source": [
    "def cleanResume(txt):\n",
    "    cleanText = re.sub(r'http\\S+\\s', ' ', txt)  # links\n",
    "    cleanText = re.sub(r'RT|cc', ' ', cleanText)\n",
    "    cleanText = re.sub(r'#\\S+\\s', ' ', cleanText)  # special characters\n",
    "    cleanText = re.sub(r'@\\S+', ' ', cleanText)\n",
    "    cleanText = re.sub(r'[%s]' % re.escape(r\"\"\"!\"#$%&'()*+,-./:;<=>?@[\\]^_`{|}~\"\"\"), ' ', cleanText)\n",
    "    cleanText = re.sub(r'[^\\x00-\\x7f]', ' ', cleanText)\n",
    "    cleanText = re.sub(r'\\s+', ' ', cleanText)\n",
    "    return cleanText"
   ]
  },
  {
   "cell_type": "code",
   "execution_count": 44,
   "id": "4a485939-a57d-4b32-ade2-e162209f7e22",
   "metadata": {},
   "outputs": [],
   "source": [
    "def job_recommendation(resume_text):\n",
    "    resume_text= cleanResume(resume_text)\n",
    "    resume_tfidf = tfidf_vectorizer.transform([resume_text])\n",
    "    predicted_category = rf_classifier.predict(resume_tfidf)[0]\n",
    "    return predicted_category"
   ]
  },
  {
   "cell_type": "code",
   "execution_count": 46,
   "id": "f6182fb5-c6a5-4aa5-b6ce-19cf7e7a258d",
   "metadata": {},
   "outputs": [],
   "source": [
    "import pickle\n",
    "pickle.dump(rf_classifier,open('models/rf_classifier_job_recommendation.pkl','wb'))\n",
    "pickle.dump(tfidf_vectorizer,open('models/tfidf_vectorizer_job_recommendation.pkl','wb'))"
   ]
  },
  {
   "cell_type": "code",
   "execution_count": null,
   "id": "6c25fde6-ce33-4b52-8693-6688f519a599",
   "metadata": {},
   "outputs": [],
   "source": []
  }
 ],
 "metadata": {
  "kernelspec": {
   "display_name": "Python 3 (ipykernel)",
   "language": "python",
   "name": "python3"
  },
  "language_info": {
   "codemirror_mode": {
    "name": "ipython",
    "version": 3
   },
   "file_extension": ".py",
   "mimetype": "text/x-python",
   "name": "python",
   "nbconvert_exporter": "python",
   "pygments_lexer": "ipython3",
   "version": "3.12.4"
  }
 },
 "nbformat": 4,
 "nbformat_minor": 5
}
