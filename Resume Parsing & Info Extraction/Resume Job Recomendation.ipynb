{
 "cells": [
  {
   "cell_type": "code",
   "execution_count": 1,
   "id": "62b3fe04-8fb5-41a1-bb1d-dc557c26abfb",
   "metadata": {},
   "outputs": [],
   "source": [
    "import pandas as pd"
   ]
  },
  {
   "cell_type": "code",
   "execution_count": 2,
   "id": "61fac732-9412-44b1-bed2-3d301cf8792c",
   "metadata": {},
   "outputs": [],
   "source": [
    "df = pd.read_csv(\"<filapath>\")"
   ]
  },
  {
   "cell_type": "code",
   "execution_count": 3,
   "id": "d4613bce-e0cc-4049-bc57-93abcf15358b",
   "metadata": {},
   "outputs": [
    {
     "data": {
      "text/plain": [
       "(1615940, 2)"
      ]
     },
     "execution_count": 3,
     "metadata": {},
     "output_type": "execute_result"
    }
   ],
   "source": [
    "df.shape"
   ]
  },
  {
   "cell_type": "code",
   "execution_count": 4,
   "id": "30853b01-673e-4d37-944f-400d274a8700",
   "metadata": {},
   "outputs": [
    {
     "data": {
      "text/html": [
       "<div>\n",
       "<style scoped>\n",
       "    .dataframe tbody tr th:only-of-type {\n",
       "        vertical-align: middle;\n",
       "    }\n",
       "\n",
       "    .dataframe tbody tr th {\n",
       "        vertical-align: top;\n",
       "    }\n",
       "\n",
       "    .dataframe thead th {\n",
       "        text-align: right;\n",
       "    }\n",
       "</style>\n",
       "<table border=\"1\" class=\"dataframe\">\n",
       "  <thead>\n",
       "    <tr style=\"text-align: right;\">\n",
       "      <th></th>\n",
       "      <th>Role</th>\n",
       "      <th>Features</th>\n",
       "    </tr>\n",
       "  </thead>\n",
       "  <tbody>\n",
       "    <tr>\n",
       "      <th>0</th>\n",
       "      <td>Social Media Manager</td>\n",
       "      <td>5 to 15 Years Digital Marketing Specialist M.T...</td>\n",
       "    </tr>\n",
       "    <tr>\n",
       "      <th>1</th>\n",
       "      <td>Frontend Web Developer</td>\n",
       "      <td>2 to 12 Years Web Developer BCA HTML, CSS, Jav...</td>\n",
       "    </tr>\n",
       "    <tr>\n",
       "      <th>2</th>\n",
       "      <td>Quality Control Manager</td>\n",
       "      <td>0 to 12 Years Operations Manager PhD Quality c...</td>\n",
       "    </tr>\n",
       "    <tr>\n",
       "      <th>3</th>\n",
       "      <td>Wireless Network Engineer</td>\n",
       "      <td>4 to 11 Years Network Engineer PhD Wireless ne...</td>\n",
       "    </tr>\n",
       "    <tr>\n",
       "      <th>4</th>\n",
       "      <td>Conference Manager</td>\n",
       "      <td>1 to 12 Years Event Manager MBA Event planning...</td>\n",
       "    </tr>\n",
       "  </tbody>\n",
       "</table>\n",
       "</div>"
      ],
      "text/plain": [
       "                        Role  \\\n",
       "0       Social Media Manager   \n",
       "1     Frontend Web Developer   \n",
       "2    Quality Control Manager   \n",
       "3  Wireless Network Engineer   \n",
       "4         Conference Manager   \n",
       "\n",
       "                                            Features  \n",
       "0  5 to 15 Years Digital Marketing Specialist M.T...  \n",
       "1  2 to 12 Years Web Developer BCA HTML, CSS, Jav...  \n",
       "2  0 to 12 Years Operations Manager PhD Quality c...  \n",
       "3  4 to 11 Years Network Engineer PhD Wireless ne...  \n",
       "4  1 to 12 Years Event Manager MBA Event planning...  "
      ]
     },
     "execution_count": 4,
     "metadata": {},
     "output_type": "execute_result"
    }
   ],
   "source": [
    "df.head()"
   ]
  },
  {
   "cell_type": "code",
   "execution_count": 5,
   "id": "d1592c12-a8ef-45ee-ae7e-4f70abaab46e",
   "metadata": {},
   "outputs": [
    {
     "name": "stdout",
     "output_type": "stream",
     "text": [
      "<class 'pandas.core.frame.DataFrame'>\n",
      "RangeIndex: 1615940 entries, 0 to 1615939\n",
      "Data columns (total 2 columns):\n",
      " #   Column    Non-Null Count    Dtype \n",
      "---  ------    --------------    ----- \n",
      " 0   Role      1615940 non-null  object\n",
      " 1   Features  1615940 non-null  object\n",
      "dtypes: object(2)\n",
      "memory usage: 24.7+ MB\n"
     ]
    }
   ],
   "source": [
    "df.info()"
   ]
  },
  {
   "cell_type": "code",
   "execution_count": 6,
   "id": "d453df26-fe1d-418f-b303-1df8f8611ea8",
   "metadata": {},
   "outputs": [
    {
     "data": {
      "text/plain": [
       "Index(['Role', 'Features'], dtype='object')"
      ]
     },
     "execution_count": 6,
     "metadata": {},
     "output_type": "execute_result"
    }
   ],
   "source": [
    "df.columns"
   ]
  },
  {
   "cell_type": "code",
   "execution_count": 7,
   "id": "e48d9ff1-06e0-4bf3-84ea-03b3ae09dbc0",
   "metadata": {},
   "outputs": [
    {
     "data": {
      "text/plain": [
       "Role\n",
       "Interaction Designer            20580\n",
       "Network Administrator           17470\n",
       "User Interface Designer         14036\n",
       "Social Media Manager            13945\n",
       "User Experience Designer        13935\n",
       "                                ...  \n",
       "Inventory Control Specialist     3342\n",
       "Budget Analyst                   3335\n",
       "Clinical Nurse Manager           3324\n",
       "Social Science Researcher        3321\n",
       "Paid Advertising Specialist      3306\n",
       "Name: count, Length: 376, dtype: int64"
      ]
     },
     "execution_count": 7,
     "metadata": {},
     "output_type": "execute_result"
    }
   ],
   "source": [
    "df['Role'].value_counts()"
   ]
  },
  {
   "cell_type": "code",
   "execution_count": 8,
   "id": "44221d43-1737-4bca-b219-821eae5c9497",
   "metadata": {},
   "outputs": [],
   "source": [
    "min_count = 6500 #setting minimum to 6.5k, dropping casses less than 6k\n",
    "role_counts = df['Role'].value_counts()\n",
    "dropped_classes = role_counts[role_counts < min_count].index\n",
    "filtered_df = df[~df['Role'].isin(dropped_classes)].reset_index(drop=True)"
   ]
  },
  {
   "cell_type": "code",
   "execution_count": 9,
   "id": "4cdcbee1-b7ed-4e26-9961-4a38420e5572",
   "metadata": {},
   "outputs": [
    {
     "data": {
      "text/plain": [
       "Role\n",
       "Interaction Designer            20580\n",
       "Network Administrator           17470\n",
       "User Interface Designer         14036\n",
       "Social Media Manager            13945\n",
       "User Experience Designer        13935\n",
       "                                ...  \n",
       "Inventory Control Specialist     3342\n",
       "Budget Analyst                   3335\n",
       "Clinical Nurse Manager           3324\n",
       "Social Science Researcher        3321\n",
       "Paid Advertising Specialist      3306\n",
       "Name: count, Length: 376, dtype: int64"
      ]
     },
     "execution_count": 9,
     "metadata": {},
     "output_type": "execute_result"
    }
   ],
   "source": [
    "df['Role'].value_counts()"
   ]
  },
  {
   "cell_type": "code",
   "execution_count": 10,
   "id": "753ef232-0c3a-47db-973d-b13d75249fe9",
   "metadata": {},
   "outputs": [
    {
     "data": {
      "text/plain": [
       "376"
      ]
     },
     "execution_count": 10,
     "metadata": {},
     "output_type": "execute_result"
    }
   ],
   "source": [
    "len(df['Role'].value_counts())"
   ]
  },
  {
   "cell_type": "code",
   "execution_count": 11,
   "id": "ab15ed4c-d419-4cbd-9408-a06b43fffcf7",
   "metadata": {},
   "outputs": [],
   "source": [
    "df = df.sample(n=10000) #n=10000"
   ]
  },
  {
   "cell_type": "code",
   "execution_count": 12,
   "id": "2b3b7ee4-1b1e-4736-a142-d62558e35ecf",
   "metadata": {},
   "outputs": [
    {
     "data": {
      "text/html": [
       "<div>\n",
       "<style scoped>\n",
       "    .dataframe tbody tr th:only-of-type {\n",
       "        vertical-align: middle;\n",
       "    }\n",
       "\n",
       "    .dataframe tbody tr th {\n",
       "        vertical-align: top;\n",
       "    }\n",
       "\n",
       "    .dataframe thead th {\n",
       "        text-align: right;\n",
       "    }\n",
       "</style>\n",
       "<table border=\"1\" class=\"dataframe\">\n",
       "  <thead>\n",
       "    <tr style=\"text-align: right;\">\n",
       "      <th></th>\n",
       "      <th>Role</th>\n",
       "      <th>Features</th>\n",
       "    </tr>\n",
       "  </thead>\n",
       "  <tbody>\n",
       "    <tr>\n",
       "      <th>65883</th>\n",
       "      <td>Mechanical Design Engineer</td>\n",
       "      <td>5 to 12 Years Mechanical Engineer BBA Mechanic...</td>\n",
       "    </tr>\n",
       "    <tr>\n",
       "      <th>297104</th>\n",
       "      <td>Social Science Researcher</td>\n",
       "      <td>2 to 8 Years Research Analyst BA Social scienc...</td>\n",
       "    </tr>\n",
       "    <tr>\n",
       "      <th>940130</th>\n",
       "      <td>Wedding Coordinator</td>\n",
       "      <td>1 to 8 Years Event Coordinator BA Wedding plan...</td>\n",
       "    </tr>\n",
       "    <tr>\n",
       "      <th>59858</th>\n",
       "      <td>Data Entry Specialist</td>\n",
       "      <td>0 to 8 Years Administrative Assistant BCA Data...</td>\n",
       "    </tr>\n",
       "    <tr>\n",
       "      <th>1326956</th>\n",
       "      <td>Project Coordinator</td>\n",
       "      <td>0 to 14 Years Executive Assistant BCA Project ...</td>\n",
       "    </tr>\n",
       "    <tr>\n",
       "      <th>778045</th>\n",
       "      <td>Design Engineer</td>\n",
       "      <td>0 to 13 Years Structural Engineer MCA Engineer...</td>\n",
       "    </tr>\n",
       "    <tr>\n",
       "      <th>1145858</th>\n",
       "      <td>Product Designer</td>\n",
       "      <td>3 to 12 Years Mechanical Designer BBA Product ...</td>\n",
       "    </tr>\n",
       "    <tr>\n",
       "      <th>508256</th>\n",
       "      <td>Accounting Controller</td>\n",
       "      <td>4 to 15 Years Financial Controller MBA Account...</td>\n",
       "    </tr>\n",
       "    <tr>\n",
       "      <th>92284</th>\n",
       "      <td>Supply Chain Coordinator</td>\n",
       "      <td>2 to 12 Years Purchasing Agent BCA Supply chai...</td>\n",
       "    </tr>\n",
       "    <tr>\n",
       "      <th>1027260</th>\n",
       "      <td>Key Account Executive</td>\n",
       "      <td>3 to 8 Years Account Executive B.Com Key accou...</td>\n",
       "    </tr>\n",
       "  </tbody>\n",
       "</table>\n",
       "</div>"
      ],
      "text/plain": [
       "                               Role  \\\n",
       "65883    Mechanical Design Engineer   \n",
       "297104    Social Science Researcher   \n",
       "940130          Wedding Coordinator   \n",
       "59858         Data Entry Specialist   \n",
       "1326956         Project Coordinator   \n",
       "778045              Design Engineer   \n",
       "1145858            Product Designer   \n",
       "508256        Accounting Controller   \n",
       "92284      Supply Chain Coordinator   \n",
       "1027260       Key Account Executive   \n",
       "\n",
       "                                                  Features  \n",
       "65883    5 to 12 Years Mechanical Engineer BBA Mechanic...  \n",
       "297104   2 to 8 Years Research Analyst BA Social scienc...  \n",
       "940130   1 to 8 Years Event Coordinator BA Wedding plan...  \n",
       "59858    0 to 8 Years Administrative Assistant BCA Data...  \n",
       "1326956  0 to 14 Years Executive Assistant BCA Project ...  \n",
       "778045   0 to 13 Years Structural Engineer MCA Engineer...  \n",
       "1145858  3 to 12 Years Mechanical Designer BBA Product ...  \n",
       "508256   4 to 15 Years Financial Controller MBA Account...  \n",
       "92284    2 to 12 Years Purchasing Agent BCA Supply chai...  \n",
       "1027260  3 to 8 Years Account Executive B.Com Key accou...  "
      ]
     },
     "execution_count": 12,
     "metadata": {},
     "output_type": "execute_result"
    }
   ],
   "source": [
    "df.head(10)"
   ]
  },
  {
   "cell_type": "code",
   "execution_count": 13,
   "id": "3b8371fa-cef9-4b2f-85ac-b1bba6d1b71c",
   "metadata": {},
   "outputs": [],
   "source": [
    "from sklearn.model_selection import train_test_split\n",
    "from sklearn.feature_extraction.text import TfidfVectorizer\n",
    "from sklearn.ensemble import RandomForestClassifier\n",
    "from sklearn.metrics import accuracy_score"
   ]
  },
  {
   "cell_type": "code",
   "execution_count": 14,
   "id": "fa42f914-7b0a-4afb-b8d1-ed2f44d91bfc",
   "metadata": {},
   "outputs": [],
   "source": [
    "#t-t split\n",
    "X = df['Features']\n",
    "y = df['Role']\n",
    "\n",
    "X_train, X_test, y_train, y_test = train_test_split(X, y, test_size=0.35, random_state=42)"
   ]
  },
  {
   "cell_type": "code",
   "execution_count": 15,
   "id": "07533769-d930-4d19-bba4-d0457d540979",
   "metadata": {},
   "outputs": [],
   "source": [
    "#tf id vectorisation\n",
    "tfidf_vectorizer = TfidfVectorizer()\n",
    "X_train_tfidf = tfidf_vectorizer.fit_transform(X_train)\n",
    "X_test_tfidf = tfidf_vectorizer.transform(X_test)"
   ]
  },
  {
   "cell_type": "code",
   "execution_count": 16,
   "id": "acfe7d7d-9777-449d-b367-c0dc88eb7933",
   "metadata": {},
   "outputs": [
    {
     "name": "stdout",
     "output_type": "stream",
     "text": [
      "Accuracy: 1.0\n"
     ]
    }
   ],
   "source": [
    "#rf classifier\n",
    "rf_classifier = RandomForestClassifier()\n",
    "rf_classifier.fit(X_train_tfidf, y_train)\n",
    "\n",
    "y_pred = rf_classifier.predict(X_test_tfidf)\n",
    "\n",
    "accuracy = accuracy_score(y_test, y_pred)\n",
    "print(\"Accuracy:\", accuracy)"
   ]
  },
  {
   "cell_type": "code",
   "execution_count": 17,
   "id": "353d8137-7c90-4284-9efb-d738cf6aa908",
   "metadata": {},
   "outputs": [],
   "source": [
    "def cleanResume(txt):\n",
    "    cleanText = re.sub(r'http\\S+\\s', ' ', txt)  # links\n",
    "    cleanText = re.sub(r'RT|cc', ' ', cleanText)\n",
    "    cleanText = re.sub(r'#\\S+\\s', ' ', cleanText)  # special characters\n",
    "    cleanText = re.sub(r'@\\S+', ' ', cleanText)\n",
    "    cleanText = re.sub(r'[%s]' % re.escape(r\"\"\"!\"#$%&'()*+,-./:;<=>?@[\\]^_`{|}~\"\"\"), ' ', cleanText)\n",
    "    cleanText = re.sub(r'[^\\x00-\\x7f]', ' ', cleanText)\n",
    "    cleanText = re.sub(r'\\s+', ' ', cleanText)\n",
    "    return cleanText"
   ]
  },
  {
   "cell_type": "code",
   "execution_count": 18,
   "id": "4a485939-a57d-4b32-ade2-e162209f7e22",
   "metadata": {},
   "outputs": [],
   "source": [
    "def job_recommendation(resume_text):\n",
    "    resume_text= cleanResume(resume_text)\n",
    "    resume_tfidf = tfidf_vectorizer.transform([resume_text])\n",
    "    predicted_category = rf_classifier.predict(resume_tfidf)[0]\n",
    "    return predicted_category"
   ]
  },
  {
   "cell_type": "code",
   "execution_count": 19,
   "id": "f6182fb5-c6a5-4aa5-b6ce-19cf7e7a258d",
   "metadata": {},
   "outputs": [],
   "source": [
    "import pickle\n",
    "pickle.dump(rf_classifier,open('models/rf_classifier_job_recommendation.pkl','wb'))\n",
    "pickle.dump(tfidf_vectorizer,open('models/tfidf_vectorizer_job_recommendation.pkl','wb'))"
   ]
  },
  {
   "cell_type": "code",
   "execution_count": null,
   "id": "6c25fde6-ce33-4b52-8693-6688f519a599",
   "metadata": {},
   "outputs": [],
   "source": []
  }
 ],
 "metadata": {
  "kernelspec": {
   "display_name": "Python 3 (ipykernel)",
   "language": "python",
   "name": "python3"
  },
  "language_info": {
   "codemirror_mode": {
    "name": "ipython",
    "version": 3
   },
   "file_extension": ".py",
   "mimetype": "text/x-python",
   "name": "python",
   "nbconvert_exporter": "python",
   "pygments_lexer": "ipython3",
   "version": "3.12.4"
  }
 },
 "nbformat": 4,
 "nbformat_minor": 5
}
